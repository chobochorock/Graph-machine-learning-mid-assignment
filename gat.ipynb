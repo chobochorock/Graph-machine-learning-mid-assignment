{
 "cells": [
  {
   "cell_type": "markdown",
   "id": "37d90e0c",
   "metadata": {},
   "source": [
    "### 1. node degree가 중간값인 node를 찾기 (tie brake: index 작은 것 우선)"
   ]
  },
  {
   "cell_type": "code",
   "execution_count": 5,
   "id": "d080d029",
   "metadata": {},
   "outputs": [
    {
     "name": "stdout",
     "output_type": "stream",
     "text": [
      "degree of nodes: tensor([3., 3., 5.,  ..., 1., 4., 4.])\n",
      "median degree: 3.0\n",
      "median degree node index: 0\n"
     ]
    }
   ],
   "source": [
    "!python gat.py --problem 1"
   ]
  },
  {
   "cell_type": "markdown",
   "id": "8336bb6a",
   "metadata": {},
   "source": [
    "### 2. 위 node의 link를 찾고, 각각 attention coefficient를 찾기"
   ]
  },
  {
   "cell_type": "code",
   "execution_count": 23,
   "id": "75ed999d",
   "metadata": {},
   "outputs": [
    {
     "name": "stdout",
     "output_type": "stream",
     "text": [
      "median edges: tensor([ 633, 1862, 2582,    0])\n",
      "attention coefficient: tensor([0.2446, 0.1971, 0.2508, 0.2502])\n"
     ]
    },
    {
     "name": "stderr",
     "output_type": "stream",
     "text": [
      "c:\\Users\\choi\\Graph-machine-learning\\gat.py:142: UserWarning: To copy construct from a tensor, it is recommended to use sourceTensor.detach().clone() or sourceTensor.detach().clone().requires_grad_(True), rather than torch.tensor(sourceTensor).\n",
      "  median_node = torch.tensor(median_node, device=data.edge_index.device)\n"
     ]
    }
   ],
   "source": [
    "!python gat.py --problem 2 --no-log"
   ]
  },
  {
   "cell_type": "markdown",
   "id": "04549dee",
   "metadata": {},
   "source": [
    "### 3. GCN과의 node classification을 비교"
   ]
  },
  {
   "cell_type": "code",
   "execution_count": null,
   "id": "4fe7bf69",
   "metadata": {},
   "outputs": [],
   "source": [
    "!python gcn.py --problem 8 --no-log"
   ]
  },
  {
   "cell_type": "code",
   "execution_count": null,
   "id": "82259508",
   "metadata": {},
   "outputs": [],
   "source": [
    "!python gat.py --problem 3 --no-log"
   ]
  },
  {
   "cell_type": "markdown",
   "id": "5a4dd105",
   "metadata": {},
   "source": [
    "### 4. $\\vec{\\mathbf{a}} \\in \\mathbb{R}^{2F'}$일 경우 source와 target이 서로 다른 weight를 가지는지 설명"
   ]
  },
  {
   "cell_type": "markdown",
   "id": "18340d2c",
   "metadata": {},
   "source": [
    "$W$는 같은 것을 사용하지만, $\\vec{\\mathbf{a}}$는 target이 $\\mathbb{R}^{F'}$ 크기의 앞부분을 source가 $\\mathbb{R}^{F'}$ 크기의 뒷부분을 적용하게 된다. "
   ]
  },
  {
   "cell_type": "markdown",
   "id": "c87b012f",
   "metadata": {},
   "source": [
    "### 5. 위의 문제가 코드에서 어떻게 구현되어 있는지 4번과 비교하여 설명"
   ]
  },
  {
   "cell_type": "code",
   "execution_count": null,
   "id": "f700f806",
   "metadata": {},
   "outputs": [],
   "source": [
    ""
   ]
  },
  {
   "cell_type": "markdown",
   "id": "158668e0",
   "metadata": {},
   "source": [
    "### 6. 코드에서 weight가 달랐다면, 같게 할때 성능이 달라지는지 확인"
   ]
  },
  {
   "cell_type": "code",
   "execution_count": null,
   "id": "2324d7d5",
   "metadata": {},
   "outputs": [],
   "source": [
    "!python gat.py --problem 6"
   ]
  },
  {
   "cell_type": "markdown",
   "id": "ec09f39d",
   "metadata": {},
   "source": [
    "### 7. dropout layer가 어디에 적용되는지와 그 역할을 서술"
   ]
  },
  {
   "cell_type": "code",
   "execution_count": null,
   "id": "c86b997a",
   "metadata": {},
   "outputs": [],
   "source": []
  },
  {
   "cell_type": "markdown",
   "id": "af07d245",
   "metadata": {},
   "source": [
    "### 8. hyperparameter를 조절하여 최고의 성능을 찾기"
   ]
  },
  {
   "cell_type": "code",
   "execution_count": null,
   "id": "b84e918c",
   "metadata": {},
   "outputs": [],
   "source": []
  },
  {
   "cell_type": "markdown",
   "id": "d4475aa9",
   "metadata": {},
   "source": [
    "### C. PubMed에서 최고의 성적을 내기"
   ]
  },
  {
   "cell_type": "code",
   "execution_count": null,
   "id": "2b023c36",
   "metadata": {},
   "outputs": [],
   "source": []
  }
 ],
 "metadata": {
  "kernelspec": {
   "display_name": "Python 3",
   "language": "python",
   "name": "python3"
  },
  "language_info": {
   "codemirror_mode": {
    "name": "ipython",
    "version": 3
   },
   "file_extension": ".py",
   "mimetype": "text/x-python",
   "name": "python",
   "nbconvert_exporter": "python",
   "pygments_lexer": "ipython3",
   "version": "3.10.2"
  }
 },
 "nbformat": 4,
 "nbformat_minor": 5
}
