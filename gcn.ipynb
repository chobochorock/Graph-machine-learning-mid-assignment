{
 "cells": [
  {
   "cell_type": "markdown",
   "id": "a29ae1b0",
   "metadata": {},
   "source": [
    "### 1. 두 가지의 symmetric normalization을 실습"
   ]
  },
  {
   "cell_type": "code",
   "execution_count": null,
   "id": "6910e0fb",
   "metadata": {},
   "outputs": [],
   "source": []
  },
  {
   "cell_type": "markdown",
   "id": "cad5d809",
   "metadata": {},
   "source": [
    "### 2. normalization의 유무에 따른 embedding norm분포 비교"
   ]
  },
  {
   "cell_type": "code",
   "execution_count": null,
   "id": "258c2dc6",
   "metadata": {},
   "outputs": [],
   "source": []
  },
  {
   "cell_type": "markdown",
   "id": "c766be80",
   "metadata": {},
   "source": [
    "### 3. normalization이 없을 때의 성능확인"
   ]
  },
  {
   "cell_type": "code",
   "execution_count": null,
   "id": "66efb86c",
   "metadata": {},
   "outputs": [],
   "source": []
  },
  {
   "cell_type": "markdown",
   "id": "cb57f4e5",
   "metadata": {},
   "source": [
    "### 4. Cora 데이터의 각 label별로 training data, val, test data의 수를 학인"
   ]
  },
  {
   "cell_type": "code",
   "execution_count": null,
   "id": "23d48fb4",
   "metadata": {},
   "outputs": [],
   "source": []
  },
  {
   "cell_type": "markdown",
   "id": "11beaf1e",
   "metadata": {},
   "source": [
    "### 5. training data의 edge list가 undirected인지 확인"
   ]
  },
  {
   "cell_type": "code",
   "execution_count": null,
   "id": "a4f21e6b",
   "metadata": {},
   "outputs": [],
   "source": []
  },
  {
   "cell_type": "markdown",
   "id": "19073612",
   "metadata": {},
   "source": [
    "### 6. hyperparameter를 변경해 가며, 최고의 성능을 찾기 - 경쟁"
   ]
  },
  {
   "cell_type": "code",
   "execution_count": null,
   "id": "e2b5754a",
   "metadata": {},
   "outputs": [],
   "source": []
  },
  {
   "cell_type": "markdown",
   "id": "d886ec8c",
   "metadata": {},
   "source": [
    "### 7. layer 하나를 더 쌓아 성능을 올리기 - 경쟁"
   ]
  },
  {
   "cell_type": "code",
   "execution_count": null,
   "id": "3b3753b1",
   "metadata": {},
   "outputs": [],
   "source": []
  }
 ],
 "metadata": {
  "kernelspec": {
   "display_name": "Python 3",
   "language": "python",
   "name": "python3"
  },
  "language_info": {
   "codemirror_mode": {
    "name": "ipython",
    "version": 3
   },
   "file_extension": ".py",
   "mimetype": "text/x-python",
   "name": "python",
   "nbconvert_exporter": "python",
   "pygments_lexer": "ipython3",
   "version": "3.10.2"
  }
 },
 "nbformat": 4,
 "nbformat_minor": 5
}
